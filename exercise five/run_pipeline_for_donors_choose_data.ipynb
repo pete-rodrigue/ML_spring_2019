{
 "cells": [
  {
   "cell_type": "code",
   "execution_count": 1,
   "metadata": {},
   "outputs": [
    {
     "name": "stderr",
     "output_type": "stream",
     "text": [
      "C:\\ProgramData\\Anaconda3\\lib\\site-packages\\sklearn\\ensemble\\weight_boosting.py:29: DeprecationWarning: numpy.core.umath_tests is an internal NumPy module and should not be imported. It will be removed in a future NumPy release.\n",
      "  from numpy.core.umath_tests import inner1d\n"
     ]
    }
   ],
   "source": [
    "import os\n",
    "import glob2\n",
    "from IPython.display import Image, display\n",
    "import pandas as pd\n",
    "import pipeline as pl  # import the functions from our pipeline\n",
    "import sklearn.preprocessing"
   ]
  },
  {
   "cell_type": "code",
   "execution_count": 2,
   "metadata": {},
   "outputs": [
    {
     "data": {
      "text/plain": [
       "'C:\\\\Users\\\\edwar.WJM-SONYLAPTOP\\\\Documents\\\\GitHub\\\\ML_spring_2019\\\\exercise five'"
      ]
     },
     "execution_count": 2,
     "metadata": {},
     "output_type": "execute_result"
    }
   ],
   "source": [
    "os.getcwd()"
   ]
  },
  {
   "cell_type": "markdown",
   "metadata": {},
   "source": [
    "# Working with the project grant database"
   ]
  },
  {
   "cell_type": "code",
   "execution_count": 3,
   "metadata": {},
   "outputs": [
    {
     "name": "stdout",
     "output_type": "stream",
     "text": [
      "************************\n",
      "************************\n",
      "\n",
      "\n",
      "Head of data:\n",
      "                          projectid                    teacher_acctid  \\\n",
      "0  00001ccc0e81598c4bd86bacb94d7acb  96963218e74e10c3764a5cfb153e6fea   \n",
      "1  0000fa3aa8f6649abab23615b546016d  2a578595fe351e7fce057e048c409b18   \n",
      "2  000134f07d4b30140d63262c871748ff  26bd60377bdbffb53a644a16c5308e82   \n",
      "3  0001f2d0b3827bba67cdbeaa248b832d  15d900805d9d716c051c671827109f45   \n",
      "4  0004536db996ba697ca72c9e058bfe69  400f8b82bb0143f6a40b217a517fe311   \n",
      "\n",
      "                           schoolid  school_ncesid  school_latitude  \\\n",
      "0  9f3f9f2c2da7edda5648ccd10554ed8c   1.709930e+11        41.807654   \n",
      "1  3432ed3d4466fac2f2ead83ab354e333   6.409801e+10        34.296596   \n",
      "2  dc8dcb501c3b2bb0b10e9c6ee2cd8afd   6.227100e+10        34.078625   \n",
      "3  8bea7e8c6e4279fca6276128db89292e   3.600090e+11        40.687286   \n",
      "4  fbdefab6fe41e12c55886c610c110753   3.606870e+11        40.793018   \n",
      "\n",
      "   school_longitude    school_city school_state school_metro  \\\n",
      "0        -87.673257        Chicago           IL        urban   \n",
      "1       -119.296596        Ventura           CA        urban   \n",
      "2       -118.257834    Los Angeles           CA        urban   \n",
      "3        -73.988217       Brooklyn           NY        urban   \n",
      "4        -73.205635  Central Islip           NY     suburban   \n",
      "\n",
      "                school_district       ...       secondary_focus_subject  \\\n",
      "0         Pershing Elem Network       ...                   Visual Arts   \n",
      "1  Ventura Unif School District       ...          Literature & Writing   \n",
      "2     Los Angeles Unif Sch Dist       ...               Social Sciences   \n",
      "3      New York City Dept Of Ed       ...                           NaN   \n",
      "4   Central Islip Union Free SD       ...          Literature & Writing   \n",
      "\n",
      "  secondary_focus_area resource_type    poverty_level    grade_level  \\\n",
      "0     Music & The Arts      Supplies  highest poverty  Grades PreK-2   \n",
      "1  Literacy & Language         Books  highest poverty     Grades 3-5   \n",
      "2     History & Civics    Technology     high poverty     Grades 3-5   \n",
      "3                  NaN         Books     high poverty  Grades PreK-2   \n",
      "4  Literacy & Language    Technology     high poverty  Grades PreK-2   \n",
      "\n",
      "  total_price_including_optional_support students_reached  \\\n",
      "0                                1498.61             31.0   \n",
      "1                                 282.47             28.0   \n",
      "2                                1012.38             56.0   \n",
      "3                                 175.33             23.0   \n",
      "4                                3591.11            150.0   \n",
      "\n",
      "  eligible_double_your_impact_match date_posted datefullyfunded  \n",
      "0                                 f     4/14/13          5/2/13  \n",
      "1                                 t      4/7/12         4/18/12  \n",
      "2                                 f     1/30/12         4/15/12  \n",
      "3                                 f    10/11/12         12/5/12  \n",
      "4                                 f      1/8/13         3/25/13  \n",
      "\n",
      "[5 rows x 26 columns]\n",
      "************************\n",
      "************************\n",
      "\n",
      "\n",
      "Tail of data:\n",
      "                               projectid                    teacher_acctid  \\\n",
      "124971  fffcfa4388e8ac482c44734bffa891c8  18b4c1437decf26b5f2c92b071962f82   \n",
      "124972  fffda9a35e156656df0a2e2c7091e9cf  9cc41ef1d42c253bde0866d2c490a6db   \n",
      "124973  fffe0bb8af3b9cd93046b49653cc923a  820b80005bdffb74fe85e4deb11c5a07   \n",
      "124974  fffe45b28ea6f2889de1e3f797fb31a3  defe5366f82c80715343e58cf95bd2ac   \n",
      "124975  fffeebf4827d745aa36b17c2d38d1966  96c1a33b4f2b832595c3c6a01bc24c05   \n",
      "\n",
      "                                schoolid  school_ncesid  school_latitude  \\\n",
      "124971  212357c91e4f9db903e37691b80f1e46   3.600150e+11        40.615929   \n",
      "124972  4e3fa7096549dae8b2c92cadd536b5f8   4.823640e+11        29.821455   \n",
      "124973  bb477994115ad6275e95623e927c040e   3.416290e+11        40.231834   \n",
      "124974  10a9c48f27d12ef702f27547db13a19b   8.069000e+10        39.875904   \n",
      "124975  7bb6b1924a7bd181ab5568b062260966   6.346201e+10        38.654224   \n",
      "\n",
      "        school_longitude  school_city school_state school_metro  \\\n",
      "124971        -73.912835     Brooklyn           NY        urban   \n",
      "124972        -95.399082      Houston           TX        urban   \n",
      "124973        -74.777481      Trenton           NJ        urban   \n",
      "124974       -105.031563  Westminster           CO     suburban   \n",
      "124975       -121.308122    Fair Oaks           CA     suburban   \n",
      "\n",
      "                     school_district       ...       secondary_focus_subject  \\\n",
      "124971      New York City Dept Of Ed       ...           Character Education   \n",
      "124972   Houston Ind School District       ...                   Visual Arts   \n",
      "124973       Trenton School District       ...                           NaN   \n",
      "124974    Adams 12 Five Star Schools       ...               Performing Arts   \n",
      "124975  San Juan Unified School Dist       ...                           NaN   \n",
      "\n",
      "       secondary_focus_area resource_type    poverty_level  grade_level  \\\n",
      "124971     Applied Learning      Supplies     high poverty   Grades 3-5   \n",
      "124972     Music & The Arts    Technology     high poverty  Grades 9-12   \n",
      "124973                  NaN         Books  highest poverty   Grades 3-5   \n",
      "124974     Music & The Arts         Other  highest poverty   Grades 3-5   \n",
      "124975                  NaN         Other  highest poverty   Grades 6-8   \n",
      "\n",
      "       total_price_including_optional_support students_reached  \\\n",
      "124971                                 990.99             32.0   \n",
      "124972                                 873.32            156.0   \n",
      "124973                                 184.05             20.0   \n",
      "124974                                 345.84            500.0   \n",
      "124975                                 938.00             11.0   \n",
      "\n",
      "       eligible_double_your_impact_match date_posted datefullyfunded  \n",
      "124971                                 t     6/24/12         7/30/12  \n",
      "124972                                 t    10/20/13        12/15/13  \n",
      "124973                                 f      9/2/12        10/17/12  \n",
      "124974                                 f     1/14/12         1/29/12  \n",
      "124975                                 f     12/1/12         1/17/13  \n",
      "\n",
      "[5 rows x 26 columns]\n",
      "************************\n",
      "************************\n",
      "\n",
      "\n",
      "column names of data:\n",
      "Index(['projectid', 'teacher_acctid', 'schoolid', 'school_ncesid',\n",
      "       'school_latitude', 'school_longitude', 'school_city', 'school_state',\n",
      "       'school_metro', 'school_district', 'school_county', 'school_charter',\n",
      "       'school_magnet', 'teacher_prefix', 'primary_focus_subject',\n",
      "       'primary_focus_area', 'secondary_focus_subject', 'secondary_focus_area',\n",
      "       'resource_type', 'poverty_level', 'grade_level',\n",
      "       'total_price_including_optional_support', 'students_reached',\n",
      "       'eligible_double_your_impact_match', 'date_posted', 'datefullyfunded'],\n",
      "      dtype='object')\n",
      "************************\n",
      "************************\n",
      "\n",
      "\n",
      "number of rows of data:\n",
      "124976\n",
      "************************\n",
      "************************\n",
      "\n",
      "\n",
      "\n",
      "\n",
      "\n",
      "Summary of data:\n",
      "       school_ncesid  school_latitude  school_longitude  \\\n",
      "count   1.157430e+05    124976.000000     124976.000000   \n",
      "mean    2.448448e+11        36.827284        -95.859299   \n",
      "std     1.644728e+11         4.963669         18.392876   \n",
      "min     1.000050e+10        18.249140       -171.690554   \n",
      "25%     6.344101e+10        33.872504       -117.806418   \n",
      "50%     2.200870e+11        36.617410        -90.101563   \n",
      "75%     3.704880e+11        40.676156        -80.713740   \n",
      "max     6.100010e+11        65.672562        -66.628036   \n",
      "\n",
      "       total_price_including_optional_support  students_reached  \n",
      "count                           124976.000000     124917.000000  \n",
      "mean                               654.011811         95.445760  \n",
      "std                               1098.015854        163.481912  \n",
      "min                                 92.000000          1.000000  \n",
      "25%                                345.810000         23.000000  \n",
      "50%                                510.500000         30.000000  \n",
      "75%                                752.960000        100.000000  \n",
      "max                             164382.840000      12143.000000  \n"
     ]
    }
   ],
   "source": [
    "projects = pl.load_and_peek_at_data('raw data/projects_2012_2013.csv',\n",
    "                                 date_vars=['date_posted', 'datefullyfunded'],\n",
    "                                 summary=True)"
   ]
  },
  {
   "cell_type": "markdown",
   "metadata": {},
   "source": [
    "## Look at graphs of our data"
   ]
  },
  {
   "cell_type": "code",
   "execution_count": null,
   "metadata": {
    "scrolled": true
   },
   "outputs": [],
   "source": [
    "pl.make_graphs(projects, normal_qq_plots=False)"
   ]
  },
  {
   "cell_type": "code",
   "execution_count": null,
   "metadata": {},
   "outputs": [],
   "source": [
    "for imageName in glob2.glob('figures/*.png'):\n",
    "    display(Image(filename=imageName))\n",
    "    print(imageName)"
   ]
  },
  {
   "cell_type": "code",
   "execution_count": 4,
   "metadata": {},
   "outputs": [],
   "source": [
    "# make dummy vars\n",
    "cat_vars = ['primary_focus_subject', 'secondary_focus_area', 'secondary_focus_subject',\n",
    "#             'school_city', \n",
    "            'school_metro', \n",
    "#             'school_state', \n",
    "            'school_charter', 'school_magnet',\n",
    "           'primary_focus_area', 'resource_type', 'poverty_level', 'grade_level',\n",
    "           'eligible_double_your_impact_match']\n",
    "for var in cat_vars:\n",
    "    projects = pl.make_dummies(projects, var)"
   ]
  },
  {
   "cell_type": "code",
   "execution_count": 5,
   "metadata": {},
   "outputs": [],
   "source": [
    "# make dummy outcome var\n",
    "projects['60_day_outcome'] = (projects['datefullyfunded'] -\n",
    "                              projects['date_posted']) > pd.Timedelta('60 days')"
   ]
  },
  {
   "cell_type": "code",
   "execution_count": 6,
   "metadata": {},
   "outputs": [],
   "source": [
    "# take a subset of our features\n",
    "new_cat_vars = [col for col in projects if col.startswith('D_')]\n",
    "vars_to_keep = new_cat_vars + ['date_posted', 'students_reached',\n",
    "                               'total_price_including_optional_support', '60_day_outcome']\n",
    "projects = projects[vars_to_keep]"
   ]
  },
  {
   "cell_type": "markdown",
   "metadata": {},
   "source": [
    "# Make test and training sets"
   ]
  },
  {
   "cell_type": "code",
   "execution_count": 7,
   "metadata": {},
   "outputs": [],
   "source": [
    "test_set_ranges = [('2012-01-01', '2012-04-30', '2012-07-01', '2012-10-31'), \n",
    "                   ('2012-01-01', '2012-10-31', '2013-01-01', '2013-04-30'), \n",
    "                   ('2012-01-01', '2013-04-30', '2013-07-01', '2013-10-31')]"
   ]
  },
  {
   "cell_type": "code",
   "execution_count": 8,
   "metadata": {
    "scrolled": true
   },
   "outputs": [
    {
     "name": "stdout",
     "output_type": "stream",
     "text": [
      "training start and end dates are  ('2012-01-01', '2012-04-30', '2012-07-01', '2012-10-31')\n",
      "training data dimensions:\n",
      "(6740, 95)\n",
      "mean of 60 day outcome in training set:\n",
      "0.31 \n",
      "\n",
      "\n",
      "\n"
     ]
    }
   ],
   "source": [
    "date_subset = test_set_ranges[0]\n",
    "train, test = pl.split_using_date(projects[0:40000],\n",
    "                               train_start_date=date_subset[0],\n",
    "                               train_end_date=date_subset[1],\n",
    "                               test_start_date=date_subset[2],\n",
    "                               test_end_date=date_subset[3])\n",
    "print('training start and end dates are ', date_subset)\n",
    "print('training data dimensions:')\n",
    "print(train.shape)\n",
    "\n",
    "# Fill missing values\n",
    "pl.fill_missing(train, imputation_method='median')\n",
    "pl.fill_missing(test, imputation_method='median')\n",
    "\n",
    "# Split our training and test sets into x and y variables:\n",
    "x = train.drop(['60_day_outcome', 'date_posted'], axis=1)\n",
    "x_t = test.drop(['60_day_outcome', 'date_posted'], axis=1)\n",
    "scaling = sklearn.preprocessing.MinMaxScaler(feature_range=(-1,1)).fit(x)\n",
    "x_scaled = scaling.transform(x)\n",
    "scaling = sklearn.preprocessing.MinMaxScaler(feature_range=(-1,1)).fit(x_t)\n",
    "x_t_scaled = scaling.transform(x_t)\n",
    "y = train['60_day_outcome']\n",
    "y_t = test['60_day_outcome']\n",
    "\n",
    "print('mean of 60 day outcome in training set:')\n",
    "print(round(y.mean(), 2), '\\n\\n\\n')\n"
   ]
  },
  {
   "cell_type": "code",
   "execution_count": null,
   "metadata": {
    "scrolled": true
   },
   "outputs": [],
   "source": [
    "pl.compare_models(x_data=x, x_data_scaled=x_scaled, y_data=y,\n",
    "               x_test=x_t, x_test_scaled=x_t_scaled,\n",
    "               y_test=y_t, use_test_data=True,\n",
    "               run_svm=True,\n",
    "               run_tree=True,\n",
    "               run_boosted=False, \n",
    "               run_bagging=True,\n",
    "               run_logit=True,\n",
    "               run_a_forest=True,\n",
    "               run_knn=True,\n",
    "               mythresholds=[0, 1, 2, 5, 10, 20, 30, 50, 60, 70, 90, 100])"
   ]
  },
  {
   "cell_type": "code",
   "execution_count": null,
   "metadata": {},
   "outputs": [],
   "source": []
  },
  {
   "cell_type": "code",
   "execution_count": null,
   "metadata": {},
   "outputs": [],
   "source": []
  },
  {
   "cell_type": "markdown",
   "metadata": {},
   "source": [
    "## Run our first set, with training set = first 6 months of data"
   ]
  },
  {
   "cell_type": "code",
   "execution_count": null,
   "metadata": {},
   "outputs": [],
   "source": [
    "compare_models(x_data=x, x_data_scaled=x_scaled, y_data=y,\n",
    "               x_test=x_t, x_test_scaled=x_t_scaled,\n",
    "               y_test=y_t, use_test_data=True,\n",
    "               #run_svm=True,\n",
    "               run_tree=True,\n",
    "               run_boosted=False, \n",
    "               run_bagging=True,\n",
    "               run_logit=True,\n",
    "               run_a_forest=True,\n",
    "               run_knn=True,\n",
    "                mythresholds=[0, .01, .02, .05, .1, .2, .3, .5, .6, .7, .9, 1])\n"
   ]
  },
  {
   "cell_type": "markdown",
   "metadata": {},
   "source": [
    "## Run our second set, with training set = first 12 months of data"
   ]
  },
  {
   "cell_type": "code",
   "execution_count": null,
   "metadata": {
    "scrolled": true
   },
   "outputs": [],
   "source": [
    "date_subset = test_set_ranges[1]\n",
    "train, test = split_using_date(projects,\n",
    "                               train_start_date=date_subset[0],\n",
    "                               train_end_date=date_subset[1])\n",
    "print('training start and end dates are ', date_subset)\n",
    "print('training data dimensions:')\n",
    "print(train.shape)\n",
    "print('\\n\\n')\n",
    "\n",
    "x = train.drop(['60_day_outcome', 'date_posted'], axis=1)\n",
    "x_t = test.drop(['60_day_outcome', 'date_posted'], axis=1)\n",
    "scaling = MinMaxScaler(feature_range=(-1,1)).fit(x)\n",
    "x_scaled = scaling.transform(x)\n",
    "scaling = MinMaxScaler(feature_range=(-1,1)).fit(x_t)\n",
    "x_t_scaled = scaling.transform(x_t)\n",
    "y = train['60_day_outcome']\n",
    "y_t = test['60_day_outcome']\n",
    "\n",
    "print('mean of 60 day outcome in training set:')\n",
    "print(round(y.mean(), 2), '\\n')\n",
    "\n",
    "compare_models(x_data=x, y_data=y, x_test=x_t, y_test=y_t, use_test_data=True,\n",
    "               run_tree=True,\n",
    "               run_boosted=False, \n",
    "               run_bagging=True,\n",
    "               run_logit=True,\n",
    "               run_a_forest=True,\n",
    "               run_knn=True,\n",
    "               mythresholds=[0, .01, .02, .05, .1, .2, .3, .5, .6, .7, .9, 1])"
   ]
  },
  {
   "cell_type": "markdown",
   "metadata": {},
   "source": [
    "## Run our third set, with training set = first 18 months of data"
   ]
  },
  {
   "cell_type": "code",
   "execution_count": null,
   "metadata": {
    "scrolled": false
   },
   "outputs": [],
   "source": [
    "date_subset = test_set_ranges[2]\n",
    "train, test = split_using_date(projects,\n",
    "                               train_start_date=date_subset[0],\n",
    "                               train_end_date=date_subset[1])\n",
    "print('training start and end dates are ', date_subset)\n",
    "print('training data dimensions:')\n",
    "print(train.shape)\n",
    "\n",
    "x = train.drop(['60_day_outcome', 'date_posted'], axis=1)\n",
    "x_t = test.drop(['60_day_outcome', 'date_posted'], axis=1)\n",
    "scaling = MinMaxScaler(feature_range=(-1,1)).fit(x)\n",
    "x_scaled = scaling.transform(x)\n",
    "scaling = MinMaxScaler(feature_range=(-1,1)).fit(x_t)\n",
    "x_t_scaled = scaling.transform(x_t)\n",
    "y = train['60_day_outcome']\n",
    "y_t = test['60_day_outcome']\n",
    "\n",
    "print('mean of 60 day outcome in training set:')\n",
    "print(round(y.mean(), 2), '\\n')\n",
    "\n",
    "compare_models(x_data=x, y_data=y, x_test=x_t, y_test=y_t, use_test_data=True,\n",
    "               run_tree=True,\n",
    "               run_boosted=False, \n",
    "               run_bagging=True,\n",
    "               run_logit=True,\n",
    "               run_a_forest=True,\n",
    "               run_knn=True,\n",
    "               mythresholds=[0, .01, .02, .05, .1, .2, .3, .5, .6, .7, .9, 1])"
   ]
  },
  {
   "cell_type": "code",
   "execution_count": null,
   "metadata": {},
   "outputs": [],
   "source": []
  },
  {
   "cell_type": "code",
   "execution_count": null,
   "metadata": {},
   "outputs": [],
   "source": []
  },
  {
   "cell_type": "code",
   "execution_count": null,
   "metadata": {},
   "outputs": [],
   "source": []
  },
  {
   "cell_type": "code",
   "execution_count": null,
   "metadata": {},
   "outputs": [],
   "source": []
  },
  {
   "cell_type": "code",
   "execution_count": null,
   "metadata": {},
   "outputs": [],
   "source": []
  },
  {
   "cell_type": "code",
   "execution_count": null,
   "metadata": {},
   "outputs": [],
   "source": []
  },
  {
   "cell_type": "code",
   "execution_count": null,
   "metadata": {},
   "outputs": [],
   "source": []
  },
  {
   "cell_type": "code",
   "execution_count": null,
   "metadata": {},
   "outputs": [],
   "source": []
  },
  {
   "cell_type": "code",
   "execution_count": null,
   "metadata": {},
   "outputs": [],
   "source": []
  }
 ],
 "metadata": {
  "kernelspec": {
   "display_name": "Python 3",
   "language": "python",
   "name": "python3"
  },
  "language_info": {
   "codemirror_mode": {
    "name": "ipython",
    "version": 3
   },
   "file_extension": ".py",
   "mimetype": "text/x-python",
   "name": "python",
   "nbconvert_exporter": "python",
   "pygments_lexer": "ipython3",
   "version": "3.7.0"
  }
 },
 "nbformat": 4,
 "nbformat_minor": 2
}
